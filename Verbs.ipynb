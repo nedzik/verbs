{
 "cells": [
  {
   "cell_type": "code",
   "execution_count": 3,
   "id": "99138bd4-1c2c-421e-aba2-f6938797191a",
   "metadata": {
    "ExecuteTime": {
     "end_time": "2025-02-27T02:14:13.861846Z",
     "start_time": "2025-02-27T02:14:13.820340Z"
    }
   },
   "outputs": [],
   "source": [
    "from verbs import Verbs"
   ]
  },
  {
   "cell_type": "code",
   "execution_count": 4,
   "id": "d9e6d8ca-4d87-478e-b853-502478d4648e",
   "metadata": {
    "ExecuteTime": {
     "end_time": "2025-02-27T02:15:14.041032Z",
     "start_time": "2025-02-27T02:15:14.032360Z"
    }
   },
   "outputs": [
    {
     "data": {
      "application/vnd.jupyter.widget-view+json": {
       "model_id": "dddc5fae68614690a9183d2e83d0edfa",
       "version_major": 2,
       "version_minor": 0
      },
      "text/plain": [
       "VBox(children=(Label(value='Pick a verb to learn its conjugations ...'), Dropdown(options=('anar', 'apareixer'…"
      ]
     },
     "metadata": {},
     "output_type": "display_data"
    }
   ],
   "source": [
    "verbs = Verbs(focus=['indicatiu present', 'subjuntiu present', 'subjuntiu imperfet'])\n",
    "verbs.display()"
   ]
  },
  {
   "cell_type": "code",
   "execution_count": null,
   "id": "bed9d911-f5a8-45f9-bcb8-6bc95b759714",
   "metadata": {},
   "outputs": [],
   "source": []
  }
 ],
 "metadata": {
  "kernelspec": {
   "display_name": "Python 3 (ipykernel)",
   "language": "python",
   "name": "python3"
  },
  "language_info": {
   "codemirror_mode": {
    "name": "ipython",
    "version": 3
   },
   "file_extension": ".py",
   "mimetype": "text/x-python",
   "name": "python",
   "nbconvert_exporter": "python",
   "pygments_lexer": "ipython3",
   "version": "3.11.9"
  }
 },
 "nbformat": 4,
 "nbformat_minor": 5
}
