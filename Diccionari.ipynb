{
 "cells": [
  {
   "cell_type": "code",
   "execution_count": 3,
   "id": "61e39e17-62ac-4db0-b8c6-1835315c600c",
   "metadata": {
    "ExecuteTime": {
     "end_time": "2025-02-19T18:05:48.611287Z",
     "start_time": "2025-02-19T18:05:48.602132Z"
    }
   },
   "outputs": [],
   "source": [
    "import requests\n",
    "import json\n",
    "import jsbeautifier\n",
    "from bs4 import BeautifulSoup\n",
    "from pathlib import Path"
   ]
  },
  {
   "cell_type": "code",
   "execution_count": 7,
   "id": "5bf89086-fb0d-48ff-8617-7d4867bc41a7",
   "metadata": {
    "ExecuteTime": {
     "end_time": "2025-02-19T18:30:16.977048Z",
     "start_time": "2025-02-19T18:30:16.948850Z"
    }
   },
   "outputs": [],
   "source": [
    "verb = 'reeixir'"
   ]
  },
  {
   "cell_type": "code",
   "execution_count": 8,
   "id": "2cc89073-e96e-4819-bb9e-f4e0b05e7e23",
   "metadata": {
    "ExecuteTime": {
     "end_time": "2025-02-19T18:30:17.128459Z",
     "start_time": "2025-02-19T18:30:17.116904Z"
    }
   },
   "outputs": [],
   "source": [
    "path = Path() / 'data' / 'raw' \n",
    "path.mkdir(parents=True, exist_ok=True)\n",
    "file_path = path / f'{verb}.json'"
   ]
  },
  {
   "cell_type": "code",
   "execution_count": 9,
   "id": "b7d70af8-4b4a-4f11-9b9c-95f4e2d12cac",
   "metadata": {
    "ExecuteTime": {
     "end_time": "2025-02-19T18:30:22.581196Z",
     "start_time": "2025-02-19T18:30:18.183626Z"
    }
   },
   "outputs": [
    {
     "name": "stdout",
     "output_type": "stream",
     "text": [
      "Fetching data from diccionari.cat, parsing and writing it to data/raw ...\n"
     ]
    }
   ],
   "source": [
    "if not file_path.exists():\n",
    "    print(f'Fetching data from diccionari.cat, parsing and writing it to {path} ...')\n",
    "    response = requests.get(f'https://www.diccionari.cat/conjugador_catala/{verb}')\n",
    "    soup = BeautifulSoup(response.text, 'html.parser')\n",
    "    root = soup.find(string='INFINITIU').find_parent('ol').find_parent('ol')\n",
    "    data = {'gerundi': root.find(string='GERUNDI').find_parent('ol').find('li').text}\n",
    "    categorias = ['singlar masculí', 'singular femení', 'plural masculí', 'plural femení' ]\n",
    "    data['participi'] = dict(zip(categorias, [x.text for x in root.find(string='PARTICIPI').find_parent('ol').find_all('li')]))\n",
    "    personas = ['jo', 'tu', 'ell, ella, vosté', 'nosaltres', 'vosaltres', 'ells, elles, vostés']\n",
    "    indicatiu = root.find(string='INDICATIU').find_parent('ol')\n",
    "    present = dict(zip(personas, [x.text for x in indicatiu.find(string='PRESENT').find_parent('ol').find_all('li')]))\n",
    "    imperfet = dict(zip(personas, [x.text for x in indicatiu.find(string='IMPERFET').find_parent('ol').find_all('li')]))\n",
    "    passat = dict(zip(personas, [x.text for x in indicatiu.find(string='PASSAT').find_parent('ol').find_all('li')]))\n",
    "    futur = dict(zip(personas, [x.text for x in indicatiu.find(string='FUTUR').find_parent('ol').find_all('li')]))\n",
    "    condicional = dict(zip(personas, [x.text for x in indicatiu.find(string='CONDICIONAL').find_parent('ol').find_all('li')]))\n",
    "    data['indicatiu'] = {'present': present, 'imperfet': imperfet, 'passat': passat, 'futur': futur, 'condicional': condicional}\n",
    "    subjuntiu = root.find(string='SUBJUNTIU').find_parent('ol')\n",
    "    present = dict(zip(personas, [x.text for x in subjuntiu.find(string='PRESENT').find_parent('ol').find_all('li')]))\n",
    "    imperfet = dict(zip(personas, [x.text for x in subjuntiu.find(string='IMPERFET').find_parent('ol').find_all('li')]))\n",
    "    data['subjuntiu'] = {'present': present, 'imperfet': imperfet}\n",
    "    personas_imperativas = ['tu', 'ell, ella, vosté', 'nosaltres', 'vosaltres', 'ells, elles, vostés']\n",
    "    data['imperatiu'] = dict(zip(personas_imperativas, [x.text for x in root.find(string='IMPERATIU').find_parent('ol').find_all('li')]))\n",
    "    opts = jsbeautifier.default_options()\n",
    "    opts.indent_size = 2\n",
    "    with open(file_path, 'w') as fp:\n",
    "        fp.write(jsbeautifier.beautify(json.dumps(data), opts))\n",
    "else:\n",
    "    print(f'File {file_path} already exists. Skipping ...')"
   ]
  },
  {
   "cell_type": "code",
   "execution_count": null,
   "id": "2b3082de-bc03-42c9-a58b-d333b2dc5df4",
   "metadata": {},
   "outputs": [],
   "source": []
  }
 ],
 "metadata": {
  "kernelspec": {
   "display_name": "Python 3 (ipykernel)",
   "language": "python",
   "name": "python3"
  },
  "language_info": {
   "codemirror_mode": {
    "name": "ipython",
    "version": 3
   },
   "file_extension": ".py",
   "mimetype": "text/x-python",
   "name": "python",
   "nbconvert_exporter": "python",
   "pygments_lexer": "ipython3",
   "version": "3.11.9"
  }
 },
 "nbformat": 4,
 "nbformat_minor": 5
}
