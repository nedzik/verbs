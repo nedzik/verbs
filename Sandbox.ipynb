{
 "cells": [
  {
   "cell_type": "code",
   "execution_count": 2,
   "id": "54191493-2c31-4424-bcb7-51266cf73dc1",
   "metadata": {},
   "outputs": [],
   "source": [
    "import ipywidgets as widgets"
   ]
  },
  {
   "cell_type": "code",
   "execution_count": 3,
   "id": "833a004f-b950-4753-a3be-c70074196e05",
   "metadata": {},
   "outputs": [
    {
     "data": {
      "application/vnd.jupyter.widget-view+json": {
       "model_id": "698f46fb8b56439fafddbbb38ab12b7b",
       "version_major": 2,
       "version_minor": 0
      },
      "text/plain": [
       "IntSlider(value=0)"
      ]
     },
     "metadata": {},
     "output_type": "display_data"
    }
   ],
   "source": [
    "from IPython.display import display\n",
    "w = widgets.IntSlider()\n",
    "display(w)"
   ]
  },
  {
   "cell_type": "code",
   "execution_count": 4,
   "id": "b850af50-a0f5-4c1f-9241-c0ff6a10edf1",
   "metadata": {},
   "outputs": [
    {
     "data": {
      "application/vnd.jupyter.widget-view+json": {
       "model_id": "4f9de20838224ca88f96793545a47412",
       "version_major": 2,
       "version_minor": 0
      },
      "text/plain": [
       "FloatText(value=0.0)"
      ]
     },
     "metadata": {},
     "output_type": "display_data"
    },
    {
     "data": {
      "application/vnd.jupyter.widget-view+json": {
       "model_id": "22f3cc7688c54acda9c5934498fc2e22",
       "version_major": 2,
       "version_minor": 0
      },
      "text/plain": [
       "FloatSlider(value=0.0)"
      ]
     },
     "metadata": {},
     "output_type": "display_data"
    }
   ],
   "source": [
    "a = widgets.FloatText()\n",
    "b = widgets.FloatSlider()\n",
    "display(a,b)\n",
    "\n",
    "mylink = widgets.jslink((a, 'value'), (b, 'value'))"
   ]
  },
  {
   "cell_type": "code",
   "execution_count": 5,
   "id": "54514afb-138a-436f-a0b9-4f7eb32becfe",
   "metadata": {},
   "outputs": [
    {
     "data": {
      "application/vnd.jupyter.widget-view+json": {
       "model_id": "f989cac6d67043aaa0dce142eeaab90d",
       "version_major": 2,
       "version_minor": 0
      },
      "text/plain": [
       "Output(layout=Layout(border_bottom='1px solid black', border_left='1px solid black', border_right='1px solid b…"
      ]
     },
     "execution_count": 5,
     "metadata": {},
     "output_type": "execute_result"
    }
   ],
   "source": [
    "out = widgets.Output(layout={'border': '1px solid black'})\n",
    "out"
   ]
  },
  {
   "cell_type": "code",
   "execution_count": 6,
   "id": "64a09b74-1b9f-4996-84bd-d4a454a320d1",
   "metadata": {},
   "outputs": [],
   "source": [
    "w.value = 50"
   ]
  },
  {
   "cell_type": "code",
   "execution_count": 8,
   "id": "3c7aab1a-2484-4359-aa61-5743ac526e87",
   "metadata": {},
   "outputs": [],
   "source": [
    "from ipywidgets import interact, interactive, fixed, interact_manual"
   ]
  },
  {
   "cell_type": "code",
   "execution_count": 9,
   "id": "1eb6ebaa-9e58-436f-8733-013af9e7d08c",
   "metadata": {},
   "outputs": [],
   "source": [
    "from IPython.display import display\n",
    "def f(a, b):\n",
    "    display(a + b)\n",
    "    return a+b"
   ]
  },
  {
   "cell_type": "code",
   "execution_count": 10,
   "id": "810e8c5c-3523-4d9a-afdb-685b5818896e",
   "metadata": {},
   "outputs": [],
   "source": [
    "w = interactive(f, a=10, b=20)"
   ]
  },
  {
   "cell_type": "code",
   "execution_count": 11,
   "id": "6e0171ce-9942-4f80-8de7-d9f8e438e480",
   "metadata": {},
   "outputs": [
    {
     "data": {
      "application/vnd.jupyter.widget-view+json": {
       "model_id": "ee515186f89840baa1b1436bb9280cd7",
       "version_major": 2,
       "version_minor": 0
      },
      "text/plain": [
       "interactive(children=(IntSlider(value=10, description='a', max=30, min=-10), IntSlider(value=20, description='…"
      ]
     },
     "metadata": {},
     "output_type": "display_data"
    }
   ],
   "source": [
    "display(w)"
   ]
  },
  {
   "cell_type": "code",
   "execution_count": 13,
   "id": "a01ace86-5ff8-4822-9bd2-bb8af8575580",
   "metadata": {},
   "outputs": [],
   "source": [
    "rb = widgets.RadioButtons(\n",
    "    options=['pepperoni', 'pineapple', 'anchovies'],\n",
    "#     value='pineapple',\n",
    "    description='Pizza topping:',\n",
    "    disabled=False\n",
    ")\n"
   ]
  },
  {
   "cell_type": "code",
   "execution_count": 14,
   "id": "6df322cd-5e0d-4b06-8730-25714a1e6dda",
   "metadata": {},
   "outputs": [
    {
     "data": {
      "application/vnd.jupyter.widget-view+json": {
       "model_id": "0544104673c942a08cf5e19aace7057a",
       "version_major": 2,
       "version_minor": 0
      },
      "text/plain": [
       "RadioButtons(description='Pizza topping:', options=('pepperoni', 'pineapple', 'anchovies'), value='pepperoni')"
      ]
     },
     "execution_count": 14,
     "metadata": {},
     "output_type": "execute_result"
    }
   ],
   "source": [
    "rb"
   ]
  },
  {
   "cell_type": "code",
   "execution_count": 1,
   "id": "ff4658a9-964f-438f-aca3-a0231d34cbde",
   "metadata": {},
   "outputs": [
    {
     "data": {
      "text/plain": [
       "{'gerundi': 'tenint',\n",
       " 'participi': {'singular masculí': 'tingut',\n",
       "  'singular femení': 'tinguda',\n",
       "  'plural masculí': 'tinguts',\n",
       "  'plural femení': 'tingudes'},\n",
       " 'indicatiu': {'present': {'jo': 'tinc',\n",
       "   'tu': 'tens',\n",
       "   'ell, ella, vosté': 'té',\n",
       "   'nosaltres': 'tenim',\n",
       "   'vosaltres': 'teniu',\n",
       "   'ells, elles, vosté': 'tenen'},\n",
       "  'imperfet': {'jo': 'tenia',\n",
       "   'tu': 'tenies',\n",
       "   'ell, ella, vosté': 'tenia',\n",
       "   'nosaltres': 'teníem',\n",
       "   'vosaltres': 'teníeu',\n",
       "   'ells, elles, vosté': 'tenien'},\n",
       "  'passat': {'jo': 'tinguí',\n",
       "   'tu': 'tingueres',\n",
       "   'ell, ella, vosté': 'tingué',\n",
       "   'nosaltres': 'tinguérem',\n",
       "   'vosaltres': 'tinguéreu',\n",
       "   'ells, elles, vosté': 'tingueren'},\n",
       "  'futur': {'jo': 'tindré',\n",
       "   'tu': 'tindràs',\n",
       "   'ell, ella, vosté': 'tindrà',\n",
       "   'nosaltres': 'tindrem',\n",
       "   'vosaltres': 'tindreu',\n",
       "   'ells, elles, vosté': 'tindran'},\n",
       "  'condicional': {'jo': 'tindria',\n",
       "   'tu': 'tindries',\n",
       "   'ell, ella, vosté': 'tindria',\n",
       "   'nosaltres': 'tindríem',\n",
       "   'vosaltres': 'tindríeu',\n",
       "   'ells, elles, vosté': 'tindrien'}},\n",
       " 'subjuntiu': {'present': {'jo': 'tingui',\n",
       "   'tu': 'tinguis',\n",
       "   'ell, ella, vosté': 'tingui',\n",
       "   'nosaltres': 'tinguem',\n",
       "   'vosaltres': 'tingueu',\n",
       "   'ells, elles, vosté': 'tinguin'},\n",
       "  'imperfet': {'jo': 'tingués',\n",
       "   'tu': 'tinguessis',\n",
       "   'ell, ella, vosté': 'tingués',\n",
       "   'nosaltres': 'tinguéssim',\n",
       "   'vosaltres': 'tinguéssiu',\n",
       "   'ells, elles, vosté': 'tinguessin'}},\n",
       " 'imperatiu': {'tu': 'tingues',\n",
       "  'ell, ella, vosté': 'tingui',\n",
       "  'nosaltres': 'tinguem',\n",
       "  'vosaltres': 'tingueu',\n",
       "  'ells, elles, vosté': 'tinguin'}}"
      ]
     },
     "execution_count": 1,
     "metadata": {},
     "output_type": "execute_result"
    }
   ],
   "source": [
    "import json\n",
    "json.load(open('data/raw/tenir.json', 'r'))"
   ]
  }
 ],
 "metadata": {
  "kernelspec": {
   "display_name": "Python 3 (ipykernel)",
   "language": "python",
   "name": "python3"
  },
  "language_info": {
   "codemirror_mode": {
    "name": "ipython",
    "version": 3
   },
   "file_extension": ".py",
   "mimetype": "text/x-python",
   "name": "python",
   "nbconvert_exporter": "python",
   "pygments_lexer": "ipython3",
   "version": "3.11.9"
  }
 },
 "nbformat": 4,
 "nbformat_minor": 5
}
